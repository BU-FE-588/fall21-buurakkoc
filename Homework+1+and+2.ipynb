{
 "cells": [
  {
   "cell_type": "markdown",
   "metadata": {},
   "source": [
    "# Homework 1 and 2 due November 23$^{th}$, 2021\n",
    "\n",
    "The aim of this homework is to practive the concepts of basic data structures, control flows and loops in Python. You are expected to use GitHub Classroom and present your work as an html file (i.e. web page) on your progress journals. You can use this jupyter notebook as template to provide your answers."
   ]
  },
  {
   "cell_type": "markdown",
   "metadata": {},
   "source": [
    "## Task 1\n",
    "Implement a Python program to input two numbers and perform all arithmetic operations. You are expected to find the sum, difference, product, quotient and remainder of two given numbers."
   ]
  },
  {
   "cell_type": "code",
   "execution_count": 1,
   "metadata": {},
   "outputs": [
    {
     "name": "stdout",
     "output_type": "stream",
     "text": [
      "enter the first number : 15\n",
      "enter the second number : 4\n",
      "sum :  19.0\n",
      "difference :  11.0\n",
      "product :  60.0\n",
      "quotient :  3.0\n",
      "remainder :  3.0\n"
     ]
    }
   ],
   "source": [
    "number1 = float(input(\"enter the first number : \"))\n",
    "number2 = float(input(\"enter the second number : \"))\n",
    "print(\"sum : \",number1+number2)\n",
    "print(\"difference : \",number1-number2)\n",
    "print(\"product : \",number1*number2)\n",
    "print(\"quotient : \",number1//number2)\n",
    "print(\"remainder : \",number1%number2)"
   ]
  },
  {
   "cell_type": "markdown",
   "metadata": {},
   "source": [
    "## Task 2\n",
    "Implement a Python program to input length and width of a rectangle and find area of the given rectangle. "
   ]
  },
  {
   "cell_type": "code",
   "execution_count": 3,
   "metadata": {},
   "outputs": [
    {
     "name": "stdout",
     "output_type": "stream",
     "text": [
      "enter the length : 4\n",
      "enter the width : 9\n",
      "area of the rectangle is :  36.0\n"
     ]
    }
   ],
   "source": [
    "length = float(input(\"enter the length : \"))\n",
    "width = float(input(\"enter the width : \"))\n",
    "print(\"area of the rectangle is : \",length*width)"
   ]
  },
  {
   "cell_type": "markdown",
   "metadata": {},
   "source": [
    "## Task 3\n",
    "Implement a Python program to input any decimal number from user and convert it to binary number system (i.e. base-2 number system)"
   ]
  },
  {
   "cell_type": "code",
   "execution_count": 4,
   "metadata": {},
   "outputs": [
    {
     "name": "stdout",
     "output_type": "stream",
     "text": [
      "please enter the number : 9\n",
      "9  is  1001  in binary system \n"
     ]
    }
   ],
   "source": [
    "dec_num = int(input(\"please enter the number : \"))\n",
    "binary = bin(dec_num)[2:]\n",
    "print(dec_num,\" is \",binary,\" in binary system \")"
   ]
  },
  {
   "cell_type": "markdown",
   "metadata": {},
   "source": [
    "## Task 4\n",
    "Implement a Python program to input a number and check whether number is even or odd using if/else statements.\n",
    "\n",
    "Example:\n",
    "Input <br>\n",
    "Input num: 25 <br>\n",
    "Output <br>\n",
    "25 is odd."
   ]
  },
  {
   "cell_type": "code",
   "execution_count": 5,
   "metadata": {},
   "outputs": [
    {
     "name": "stdout",
     "output_type": "stream",
     "text": [
      "enter the number : 25\n",
      "25  is odd\n"
     ]
    }
   ],
   "source": [
    "number = int(input(\"enter the number : \"))\n",
    "if(number%2 == 0):\n",
    "    print(number,\" is even\")\n",
    "else:\n",
    "    print(number,\" is odd\")"
   ]
  },
  {
   "cell_type": "markdown",
   "metadata": {},
   "source": [
    "## Task 5\n",
    "Implement a Python program to check if input year is a leap year using if/else statements."
   ]
  },
  {
   "cell_type": "code",
   "execution_count": 6,
   "metadata": {},
   "outputs": [
    {
     "name": "stdout",
     "output_type": "stream",
     "text": [
      "please enter a year : 2016\n",
      "2016  is a leap year\n"
     ]
    }
   ],
   "source": [
    "year = int(input(\"please enter a year : \"))\n",
    "if year%4 == 0:\n",
    "    print(year,\" is a leap year\")\n",
    "else:\n",
    "    print(year,\" is not a leap year\")"
   ]
  },
  {
   "cell_type": "markdown",
   "metadata": {},
   "source": [
    "## Task 6\n",
    "Implement a Python program to print all natural numbers from 1 to n using loop."
   ]
  },
  {
   "cell_type": "code",
   "execution_count": 7,
   "metadata": {},
   "outputs": [
    {
     "name": "stdout",
     "output_type": "stream",
     "text": [
      "please enter a number : 6\n",
      "1\n",
      "2\n",
      "3\n",
      "4\n",
      "5\n",
      "6\n"
     ]
    }
   ],
   "source": [
    "n = int(input(\"please enter a number : \"))\n",
    "for i in range(1,n+1):\n",
    "    print(i)"
   ]
  },
  {
   "cell_type": "markdown",
   "metadata": {},
   "source": [
    "## Task 7\n",
    "Implement a Python program to input a number from user and swap first and last digit of the given number. This task is easy to perform when input is transformed to a string. However, the aim here is to make use of mathematical operations to perform the swapping operation. One way to perform this task is to divide the input number by 10 until you are left with the first digit. The remainder from the first division is the last digit. Note that there are alternative approaches to perform the same task."
   ]
  },
  {
   "cell_type": "code",
   "execution_count": 8,
   "metadata": {},
   "outputs": [
    {
     "name": "stdout",
     "output_type": "stream",
     "text": [
      "please enter a number : 1789\n",
      "first digit : 1  last digit :  9\n",
      "swapped number is  9781\n"
     ]
    }
   ],
   "source": [
    "number = int(input(\"please enter a number : \"))\n",
    "\n",
    "# decide whether the number is positive or negative\n",
    "pos_neg = 0\n",
    "if(abs(number) != number):\n",
    "    pos_neg = -1\n",
    "if(abs(number) == number):\n",
    "    pos_neg = 1\n",
    "\n",
    "#Find first and last digit\n",
    "last_digit = abs(number)%10\n",
    "step_count = 0\n",
    "first_digit = abs(number)\n",
    "while(first_digit >= 10):\n",
    "    step_count += 1\n",
    "    first_digit = first_digit/10\n",
    "first_digit = int(first_digit%10)\n",
    "\n",
    "#swap\n",
    "swapped_num = (abs(number) + (last_digit - first_digit)*(10**step_count) - last_digit + first_digit)*pos_neg\n",
    "print(\"first digit :\",first_digit,\" last digit : \",last_digit)\n",
    "print(\"swapped number is \",swapped_num)"
   ]
  },
  {
   "cell_type": "markdown",
   "metadata": {},
   "source": [
    "## Task 8\n",
    "Implement a Python program to input any number from user and find cube of the given number using function. "
   ]
  },
  {
   "cell_type": "code",
   "execution_count": 9,
   "metadata": {},
   "outputs": [
    {
     "name": "stdout",
     "output_type": "stream",
     "text": [
      "please enter a number : 3\n",
      "cube of the given number :  27.0\n"
     ]
    }
   ],
   "source": [
    "number = float(input(\"please enter a number : \"))\n",
    "cube = pow(number,3)\n",
    "print(\"cube of the given number : \",cube)"
   ]
  },
  {
   "cell_type": "markdown",
   "metadata": {},
   "source": [
    "## Task 9\n",
    "Write a function to find prime numbers between two integers (i.e. lower and upper bound). Note that you need to control if provided bounds are positive (at least upper bound should be some positive number) and upper bound is larger than provided lower bound."
   ]
  },
  {
   "cell_type": "code",
   "execution_count": 10,
   "metadata": {},
   "outputs": [
    {
     "name": "stdout",
     "output_type": "stream",
     "text": [
      "enter the lower bound : 5\n",
      "enter the upper bound : 18\n",
      "5\n",
      "7\n",
      "11\n",
      "13\n",
      "17\n"
     ]
    }
   ],
   "source": [
    "lower = int(input(\"enter the lower bound : \"))\n",
    "upper = int(input(\"enter the upper bound : \"))\n",
    "if (upper < 0 or upper < lower) :\n",
    "    print(\"please provide a upper bound that is positive and that is greater than the lower bound\")\n",
    "else:\n",
    "    is_there_a_prime = False\n",
    "    for num in range(lower,upper + 1):  \n",
    "        if num > 1:  \n",
    "            for i in range(2,num):  \n",
    "                if (num % i) == 0:  \n",
    "                    break  \n",
    "            else:  \n",
    "                is_there_a_prime = True\n",
    "                print(num)\n",
    "if (is_there_a_prime == False):\n",
    "    print(\"no prime numbers\")"
   ]
  },
  {
   "cell_type": "markdown",
   "metadata": {},
   "source": [
    "## Task 10\n",
    "Implement a Python program that takes a list with numerical elements and find the sum of list elements."
   ]
  },
  {
   "cell_type": "code",
   "execution_count": 11,
   "metadata": {},
   "outputs": [
    {
     "name": "stdout",
     "output_type": "stream",
     "text": [
      "sum of the list is  35\n"
     ]
    }
   ],
   "source": [
    "a_list = [1,5,7,15,7]\n",
    "sum_list = sum(a_list)\n",
    "print(\"sum of the list is \", sum_list)"
   ]
  },
  {
   "cell_type": "markdown",
   "metadata": {},
   "source": [
    "## Task 11\n",
    "Implement a Python program that takes an integer list and find frequency of each element in list. There are built-in functions to perform this task in Python however you are expected perform this task using loops. Example:\n",
    "\n",
    "\n",
    "Input\n",
    "Input array elements: 4, 9, 9, 5, 100, 1, 2, 1, 2\n",
    "\n",
    "Output <br>\n",
    "Frequency of 4 = 1  <br>\n",
    "Frequency of 9 = 2  <br>\n",
    "Frequency of 5 = 1  <br>\n",
    "Frequency of 100 = 1  <br>\n",
    "Frequency of 1 = 2  <br>\n",
    "Frequency of 2 = 2  <br>"
   ]
  },
  {
   "cell_type": "code",
   "execution_count": 12,
   "metadata": {},
   "outputs": [
    {
     "name": "stdout",
     "output_type": "stream",
     "text": [
      "Frequency of  4  =  1\n",
      "Frequency of  9  =  2\n",
      "Frequency of  5  =  1\n",
      "Frequency of  100  =  1\n",
      "Frequency of  1  =  2\n",
      "Frequency of  2  =  2\n"
     ]
    }
   ],
   "source": [
    "a_list = [4, 9, 9, 5, 100, 1, 2, 1, 2]\n",
    "\n",
    "# create unique list\n",
    "unique_list = []\n",
    "for i in a_list:\n",
    "    if (i not in unique_list):\n",
    "        unique_list.append(i)\n",
    "for i in unique_list:\n",
    "    counter = 0\n",
    "    for j in a_list:\n",
    "        if j == i:\n",
    "            counter += 1\n",
    "    print(\"Frequency of \",i,\" = \",counter)"
   ]
  },
  {
   "cell_type": "markdown",
   "metadata": {},
   "source": [
    "## Task 12\n",
    "Implement a Python program that reads the side (side sizes between 1 and 5 ) of a square and prints square using hash (#) character.\n",
    "\n",
    "Input: 5\n",
    "Sample Output: <br>\n",
    "Input the size of the square:  <br>\n",
    " $ # # # # # $ <br>\n",
    " $ # # # # # $ <br>\n",
    " $ # # # # # $ <br>\n",
    " $ # # # # # $ <br>\n",
    " $ # # # # # $ <br>"
   ]
  },
  {
   "cell_type": "code",
   "execution_count": null,
   "metadata": {},
   "outputs": [],
   "source": [
    "size = int(input(\"please enter the size : \"))\n",
    "string = \"\"\n",
    "for i in range(size):\n",
    "    string += \"#\"\n",
    "for i in range(size):\n",
    "    print(string)"
   ]
  }
 ],
 "metadata": {
  "kernelspec": {
   "display_name": "Python 3",
   "language": "python",
   "name": "python3"
  },
  "language_info": {
   "codemirror_mode": {
    "name": "ipython",
    "version": 3
   },
   "file_extension": ".py",
   "mimetype": "text/x-python",
   "name": "python",
   "nbconvert_exporter": "python",
   "pygments_lexer": "ipython3",
   "version": "3.8.8"
  }
 },
 "nbformat": 4,
 "nbformat_minor": 2
}
