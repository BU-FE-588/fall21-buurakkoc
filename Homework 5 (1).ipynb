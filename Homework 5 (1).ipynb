{
 "cells": [
  {
   "cell_type": "markdown",
   "metadata": {},
   "source": [
    "## Homework 5 (A prerequisite for Project)\n",
    "\n",
    "In your project, you are expected to evaluate alternative trading strategies (i.e. algorithmic trading). \"Algorithmic or Quantitative trading is the process of designing and developing trading strategies based on mathematical and statistical analyses\" ([source](https://www.freecodecamp.org/news/algorithmic-trading-in-python/)). This requires a connection to a data source and this homework is related to setting up the required connections and some simple data manipulation steps. \n"
   ]
  },
  {
   "cell_type": "markdown",
   "metadata": {},
   "source": [
    "### Task 1\n",
    "This task requires to set up a free account for Quandl API [https://docs.data.nasdaq.com/](https://docs.data.nasdaq.com/). This [link](https://docs.data.nasdaq.com/docs/python-installation) provides the details about installation of the quandl module and setting up authentication details to get relevant information.\n",
    "\n",
    "- Install quandl using command window (or web interface will also work fine if you use Anaconda Navigator) <br> \n",
    "pip install quandl\n",
    "- Check if it is installed by importing the module as below. If there is no error, you are good to go."
   ]
  },
  {
   "cell_type": "code",
   "execution_count": 1,
   "metadata": {},
   "outputs": [],
   "source": [
    "import quandl"
   ]
  },
  {
   "cell_type": "markdown",
   "metadata": {},
   "source": [
    "- Create an account if you do not have any from the [link](https://data.nasdaq.com/sign-up). Signing-up as \"academic\" is suggested.\n",
    "- You will receive your API key once you complete your registration. \n",
    "- If you already have an account, you can find your API key from your account details.\n",
    "- We will import pandas and quandl modules to check if everything works. \n",
    "- Set your API key (i.e. register within Python)\n",
    "- Send a sample data request."
   ]
  },
  {
   "cell_type": "code",
   "execution_count": 2,
   "metadata": {},
   "outputs": [
    {
     "data": {
      "text/html": [
       "<div>\n",
       "<style scoped>\n",
       "    .dataframe tbody tr th:only-of-type {\n",
       "        vertical-align: middle;\n",
       "    }\n",
       "\n",
       "    .dataframe tbody tr th {\n",
       "        vertical-align: top;\n",
       "    }\n",
       "\n",
       "    .dataframe thead th {\n",
       "        text-align: right;\n",
       "    }\n",
       "</style>\n",
       "<table border=\"1\" class=\"dataframe\">\n",
       "  <thead>\n",
       "    <tr style=\"text-align: right;\">\n",
       "      <th></th>\n",
       "      <th>Open</th>\n",
       "      <th>High</th>\n",
       "      <th>Low</th>\n",
       "      <th>Close</th>\n",
       "      <th>Volume</th>\n",
       "      <th>Ex-Dividend</th>\n",
       "      <th>Split Ratio</th>\n",
       "      <th>Adj. Open</th>\n",
       "      <th>Adj. High</th>\n",
       "      <th>Adj. Low</th>\n",
       "      <th>Adj. Close</th>\n",
       "      <th>Adj. Volume</th>\n",
       "    </tr>\n",
       "    <tr>\n",
       "      <th>Date</th>\n",
       "      <th></th>\n",
       "      <th></th>\n",
       "      <th></th>\n",
       "      <th></th>\n",
       "      <th></th>\n",
       "      <th></th>\n",
       "      <th></th>\n",
       "      <th></th>\n",
       "      <th></th>\n",
       "      <th></th>\n",
       "      <th></th>\n",
       "      <th></th>\n",
       "    </tr>\n",
       "  </thead>\n",
       "  <tbody>\n",
       "    <tr>\n",
       "      <th>2010-06-29</th>\n",
       "      <td>19.00</td>\n",
       "      <td>25.0000</td>\n",
       "      <td>17.54</td>\n",
       "      <td>23.89</td>\n",
       "      <td>18766300.0</td>\n",
       "      <td>0.0</td>\n",
       "      <td>1.0</td>\n",
       "      <td>19.00</td>\n",
       "      <td>25.0000</td>\n",
       "      <td>17.54</td>\n",
       "      <td>23.89</td>\n",
       "      <td>18766300.0</td>\n",
       "    </tr>\n",
       "    <tr>\n",
       "      <th>2010-06-30</th>\n",
       "      <td>25.79</td>\n",
       "      <td>30.4192</td>\n",
       "      <td>23.30</td>\n",
       "      <td>23.83</td>\n",
       "      <td>17187100.0</td>\n",
       "      <td>0.0</td>\n",
       "      <td>1.0</td>\n",
       "      <td>25.79</td>\n",
       "      <td>30.4192</td>\n",
       "      <td>23.30</td>\n",
       "      <td>23.83</td>\n",
       "      <td>17187100.0</td>\n",
       "    </tr>\n",
       "    <tr>\n",
       "      <th>2010-07-01</th>\n",
       "      <td>25.00</td>\n",
       "      <td>25.9200</td>\n",
       "      <td>20.27</td>\n",
       "      <td>21.96</td>\n",
       "      <td>8218800.0</td>\n",
       "      <td>0.0</td>\n",
       "      <td>1.0</td>\n",
       "      <td>25.00</td>\n",
       "      <td>25.9200</td>\n",
       "      <td>20.27</td>\n",
       "      <td>21.96</td>\n",
       "      <td>8218800.0</td>\n",
       "    </tr>\n",
       "    <tr>\n",
       "      <th>2010-07-02</th>\n",
       "      <td>23.00</td>\n",
       "      <td>23.1000</td>\n",
       "      <td>18.71</td>\n",
       "      <td>19.20</td>\n",
       "      <td>5139800.0</td>\n",
       "      <td>0.0</td>\n",
       "      <td>1.0</td>\n",
       "      <td>23.00</td>\n",
       "      <td>23.1000</td>\n",
       "      <td>18.71</td>\n",
       "      <td>19.20</td>\n",
       "      <td>5139800.0</td>\n",
       "    </tr>\n",
       "    <tr>\n",
       "      <th>2010-07-06</th>\n",
       "      <td>20.00</td>\n",
       "      <td>20.0000</td>\n",
       "      <td>15.83</td>\n",
       "      <td>16.11</td>\n",
       "      <td>6866900.0</td>\n",
       "      <td>0.0</td>\n",
       "      <td>1.0</td>\n",
       "      <td>20.00</td>\n",
       "      <td>20.0000</td>\n",
       "      <td>15.83</td>\n",
       "      <td>16.11</td>\n",
       "      <td>6866900.0</td>\n",
       "    </tr>\n",
       "  </tbody>\n",
       "</table>\n",
       "</div>"
      ],
      "text/plain": [
       "             Open     High    Low  Close      Volume  Ex-Dividend  \\\n",
       "Date                                                                \n",
       "2010-06-29  19.00  25.0000  17.54  23.89  18766300.0          0.0   \n",
       "2010-06-30  25.79  30.4192  23.30  23.83  17187100.0          0.0   \n",
       "2010-07-01  25.00  25.9200  20.27  21.96   8218800.0          0.0   \n",
       "2010-07-02  23.00  23.1000  18.71  19.20   5139800.0          0.0   \n",
       "2010-07-06  20.00  20.0000  15.83  16.11   6866900.0          0.0   \n",
       "\n",
       "            Split Ratio  Adj. Open  Adj. High  Adj. Low  Adj. Close  \\\n",
       "Date                                                                  \n",
       "2010-06-29          1.0      19.00    25.0000     17.54       23.89   \n",
       "2010-06-30          1.0      25.79    30.4192     23.30       23.83   \n",
       "2010-07-01          1.0      25.00    25.9200     20.27       21.96   \n",
       "2010-07-02          1.0      23.00    23.1000     18.71       19.20   \n",
       "2010-07-06          1.0      20.00    20.0000     15.83       16.11   \n",
       "\n",
       "            Adj. Volume  \n",
       "Date                     \n",
       "2010-06-29   18766300.0  \n",
       "2010-06-30   17187100.0  \n",
       "2010-07-01    8218800.0  \n",
       "2010-07-02    5139800.0  \n",
       "2010-07-06    6866900.0  "
      ]
     },
     "execution_count": 2,
     "metadata": {},
     "output_type": "execute_result"
    }
   ],
   "source": [
    "import pandas as pd\n",
    "import quandl as q\n",
    "import matplotlib.pyplot as plt\n",
    "import numpy as np\n",
    "# set the API key\n",
    "q.ApiConfig.api_key = \"-V19Eji2UiUJ_Qunc_d8\"\n",
    "\n",
    "#send a get request to query Tesla's end of day stock prices from 1st #Jan, 2010 to 1st Jan, 2019\n",
    "tesla_data = q.get(\"WIKI/TSLA\", start_date=\"2010-01-01\", end_date=\"2018-01-01\")\n",
    "\n",
    "# check the first 5 rows of the dataframe\n",
    "tesla_data.head()"
   ]
  },
  {
   "cell_type": "markdown",
   "metadata": {},
   "source": [
    "Note that get method requires certain arguments in some form. The details of the call is provided [here](https://docs.data.nasdaq.com/docs/parameters-2#section-times-series-parameters). We made a request to TESLA's daily prices between two dates by \"WIKI/TSLA\". WIKI is a data product code. The details on the data organization is provided [here](https://docs.data.nasdaq.com/docs/data-organization). Some of the products are free as you can see from the link. We have used \"WIKI\" free product which is \"End of Day US Stock Prices\" to get TESLA prices. There are some other prices/indices that are available for free. You can check those in you are interested.\n",
    "\n",
    "Once you have obtained the information in a pandas dataframe, this task is completed."
   ]
  },
  {
   "cell_type": "markdown",
   "metadata": {},
   "source": [
    "### Task 2\n",
    "\n",
    "Implement a function that calculates simple moving average (SMA) of closing prices. Note that simple moving average calculates the average of the values in the most recent past $k$ periods (day in our case). Therefore the function will take an argument \"number of periods\". Technical analysis people like to use such statistics in order to make trading decisions. You can find [this link](https://www.profitaddaweb.com/2017/07/smasimple-moving-average-technical.html) useful."
   ]
  },
  {
   "cell_type": "code",
   "execution_count": 3,
   "metadata": {},
   "outputs": [],
   "source": [
    "def SMA(n_of_periods):\n",
    "    closing_prices = tesla_data[[\"Close\"]]\n",
    "    return closing_prices.rolling(n_of_periods).mean()"
   ]
  },
  {
   "cell_type": "code",
   "execution_count": 4,
   "metadata": {},
   "outputs": [
    {
     "data": {
      "text/plain": [
       "Text(0.5, 1.0, 'Price and SMA')"
      ]
     },
     "execution_count": 4,
     "metadata": {},
     "output_type": "execute_result"
    },
    {
     "data": {
      "image/png": "[encoded data removed]",
      "text/plain": [
       "<Figure size 432x288 with 1 Axes>"
      ]
     },
     "metadata": {
      "needs_background": "light"
     },
     "output_type": "display_data"
    }
   ],
   "source": [
    "SMA_50 = SMA(n_of_periods=50)\n",
    "plt.plot(tesla_data[[\"Close\"]])\n",
    "plt.plot(SMA_50)\n",
    "plt.legend([\"Closing Prices\",\"SMA_50\"])\n",
    "plt.title(\"Price and SMA\")"
   ]
  },
  {
   "cell_type": "markdown",
   "metadata": {},
   "source": [
    "### Task 3\n",
    "\n",
    "Implement a function that calculates simple moving standard deviation of closing prices so that one can have some understanding of the volatility in the prices. "
   ]
  },
  {
   "cell_type": "code",
   "execution_count": 5,
   "metadata": {},
   "outputs": [],
   "source": [
    "def SM_STD(n_of_periods):\n",
    "    closing_prices = tesla_data[[\"Close\"]]\n",
    "    return closing_prices.rolling(n_of_periods).std()"
   ]
  },
  {
   "cell_type": "code",
   "execution_count": 6,
   "metadata": {},
   "outputs": [
    {
     "data": {
      "text/plain": [
       "<matplotlib.legend.Legend at 0x1805a3828e0>"
      ]
     },
     "execution_count": 6,
     "metadata": {},
     "output_type": "execute_result"
    },
    {
     "data": {
      "image/png": "[encoded data removed]",
      "text/plain": [
       "<Figure size 432x288 with 1 Axes>"
      ]
     },
     "metadata": {
      "needs_background": "light"
     },
     "output_type": "display_data"
    }
   ],
   "source": [
    "SM_STD(n_of_periods = 50).plot()\n",
    "plt.title(\"Simple Moving Standard Deviation\")\n",
    "plt.legend([\"SM_STD\"])"
   ]
  },
  {
   "cell_type": "code",
   "execution_count": 7,
   "metadata": {},
   "outputs": [],
   "source": [
    "# CREATING THE DATA\n",
    "\n",
    "k = 50                                             # k : number of days\n",
    "SMA_k = SMA(k)                                     # k days simple moving average\n",
    "SM_STD_k = SM_STD(k)                               # k days simple moving standard deviation\n",
    "tesla = tesla_data[[\"Close\"]].copy()               # copy everyday of close prices to a new dataframe which has the name tesla\n",
    "tesla[\"SMA_\"+str(k)] = SMA_k                       # create columns of SMA and SMSTD \n",
    "tesla[\"STD_\"+str(k)] = SM_STD_k\n",
    "tesla = tesla.loc[tesla.index >= \"2017-01-01\"]     # pull out the rows that are not in 2017\n"
   ]
  },
  {
   "cell_type": "markdown",
   "metadata": {},
   "source": [
    "### Task 4\n",
    "\n",
    "Assume that you are asked to devise a simple trading strategy which takes moving standard deviation and average into account. As an example, you may end up with such a strategy:\n",
    "\n",
    "- If moving standard deviation is larger than some number, do nothing (this is kind of a risk averse setting)\n",
    "- If last price observed is larger than the average, buy the stock, sell otherwise.\n",
    "\n",
    "This is just a very simple example based on the moving statistics of the closing prices. You may end up with a better strategy. In order to understand if the strategy is reasonable, we generally try to see the performance of the trading algorithm using a predefined past period. This is so called backtesting. This will be done in a paper-trading setting. A paper trade is a simulated trade that allows an investor to practice buying and selling without risking real money. Note that paper trading may not be representative of the real trade because of the market dynamics.\n",
    "\n",
    "Here we will assume that you have 1 unit of money allowed for trading each day. You can invest or keep it. If you pass investing on a day (because of some rule you use like in the volatility example above), it is assumed that you lost the opportunity (in other words, the money to be invested is not accumulated for the use on the next day).\n",
    "\n",
    "Implement a trading strategy based on the statistics and evaluate the strategy for the year 2017 on the Tesla prices. You need to keep track of the everyday actions in a pandas dataframe then report the invested money and total value of your investment at the end of the year. Report relevant statistics (be creative here)."
   ]
  },
  {
   "cell_type": "markdown",
   "metadata": {},
   "source": [
    "# PROPOSED STRATEGY:\n",
    "### Buy the stock when price is higher than SMA and sell it until SMA is greater than the price.\n",
    "### Don't change position when the volatility is too high"
   ]
  },
  {
   "cell_type": "code",
   "execution_count": 8,
   "metadata": {},
   "outputs": [
    {
     "data": {
      "text/html": [
       "<div>\n",
       "<style scoped>\n",
       "    .dataframe tbody tr th:only-of-type {\n",
       "        vertical-align: middle;\n",
       "    }\n",
       "\n",
       "    .dataframe tbody tr th {\n",
       "        vertical-align: top;\n",
       "    }\n",
       "\n",
       "    .dataframe thead th {\n",
       "        text-align: right;\n",
       "    }\n",
       "</style>\n",
       "<table border=\"1\" class=\"dataframe\">\n",
       "  <thead>\n",
       "    <tr style=\"text-align: right;\">\n",
       "      <th></th>\n",
       "      <th>Close</th>\n",
       "      <th>SMA_50</th>\n",
       "      <th>STD_50</th>\n",
       "      <th>Signal</th>\n",
       "    </tr>\n",
       "    <tr>\n",
       "      <th>Date</th>\n",
       "      <th></th>\n",
       "      <th></th>\n",
       "      <th></th>\n",
       "      <th></th>\n",
       "    </tr>\n",
       "  </thead>\n",
       "  <tbody>\n",
       "    <tr>\n",
       "      <th>2017-01-03</th>\n",
       "      <td>216.99</td>\n",
       "      <td>196.2010</td>\n",
       "      <td>10.384939</td>\n",
       "      <td>NaN</td>\n",
       "    </tr>\n",
       "    <tr>\n",
       "      <th>2017-01-04</th>\n",
       "      <td>226.99</td>\n",
       "      <td>196.7390</td>\n",
       "      <td>11.251183</td>\n",
       "      <td>0.0</td>\n",
       "    </tr>\n",
       "    <tr>\n",
       "      <th>2017-01-05</th>\n",
       "      <td>226.75</td>\n",
       "      <td>197.2188</td>\n",
       "      <td>11.999799</td>\n",
       "      <td>0.0</td>\n",
       "    </tr>\n",
       "    <tr>\n",
       "      <th>2017-01-06</th>\n",
       "      <td>229.01</td>\n",
       "      <td>197.7522</td>\n",
       "      <td>12.798271</td>\n",
       "      <td>0.0</td>\n",
       "    </tr>\n",
       "    <tr>\n",
       "      <th>2017-01-09</th>\n",
       "      <td>231.28</td>\n",
       "      <td>198.3330</td>\n",
       "      <td>13.637507</td>\n",
       "      <td>0.0</td>\n",
       "    </tr>\n",
       "  </tbody>\n",
       "</table>\n",
       "</div>"
      ],
      "text/plain": [
       "             Close    SMA_50     STD_50  Signal\n",
       "Date                                           \n",
       "2017-01-03  216.99  196.2010  10.384939     NaN\n",
       "2017-01-04  226.99  196.7390  11.251183     0.0\n",
       "2017-01-05  226.75  197.2188  11.999799     0.0\n",
       "2017-01-06  229.01  197.7522  12.798271     0.0\n",
       "2017-01-09  231.28  198.3330  13.637507     0.0"
      ]
     },
     "execution_count": 8,
     "metadata": {},
     "output_type": "execute_result"
    }
   ],
   "source": [
    "# IMPLEMENTING THE STRATEGY\n",
    "\n",
    "# create std threshold\n",
    "std_mean = tesla[\"STD_\"+str(k)].mean()             # mean of SM_STD for 2017\n",
    "std_std = tesla[\"STD_\"+str(k)].std()               # std of  SM_STD for 2017\n",
    "s = std_mean + std_std                             # s : std threshold -> do nothing when std >= s\n",
    "\n",
    "# create buy or sell signal\n",
    "signal = (tesla[\"SMA_\"+str(k)] < tesla[\"Close\"])   # check if the price is grater then SMA_k\n",
    "signal = signal.astype(int)                        # convert boolean to integer (0: price <= SMA_k; 1: price > SMA_k)\n",
    "tesla[\"Signal\"] = signal   \n",
    "\n",
    "volatile_days = tesla[\"STD_\"+str(k)] >= s          # the days when SM_STD greater then the threshold s\n",
    "tesla.loc[volatile_days, \"Signal\"] = np.nan        # do nothing on volatile days\n",
    "tesla = tesla.ffill(axis = 0)                      # hold the same position on volatile days\n",
    "tesla[\"Signal\"] = tesla[\"Signal\"].diff()           # 1: buy signal; 0: hold position; -1: sell signal\n",
    "tesla.head()\n"
   ]
  },
  {
   "cell_type": "code",
   "execution_count": 9,
   "metadata": {},
   "outputs": [
    {
     "data": {
      "text/html": [
       "<div>\n",
       "<style scoped>\n",
       "    .dataframe tbody tr th:only-of-type {\n",
       "        vertical-align: middle;\n",
       "    }\n",
       "\n",
       "    .dataframe tbody tr th {\n",
       "        vertical-align: top;\n",
       "    }\n",
       "\n",
       "    .dataframe thead th {\n",
       "        text-align: right;\n",
       "    }\n",
       "</style>\n",
       "<table border=\"1\" class=\"dataframe\">\n",
       "  <thead>\n",
       "    <tr style=\"text-align: right;\">\n",
       "      <th></th>\n",
       "      <th>Close</th>\n",
       "      <th>SMA_50</th>\n",
       "      <th>STD_50</th>\n",
       "      <th>Signal</th>\n",
       "    </tr>\n",
       "    <tr>\n",
       "      <th>Date</th>\n",
       "      <th></th>\n",
       "      <th></th>\n",
       "      <th></th>\n",
       "      <th></th>\n",
       "    </tr>\n",
       "  </thead>\n",
       "  <tbody>\n",
       "    <tr>\n",
       "      <th>2017-01-03</th>\n",
       "      <td>216.99</td>\n",
       "      <td>196.2010</td>\n",
       "      <td>10.384939</td>\n",
       "      <td>1.0</td>\n",
       "    </tr>\n",
       "    <tr>\n",
       "      <th>2017-01-04</th>\n",
       "      <td>226.99</td>\n",
       "      <td>196.7390</td>\n",
       "      <td>11.251183</td>\n",
       "      <td>0.0</td>\n",
       "    </tr>\n",
       "    <tr>\n",
       "      <th>2017-01-05</th>\n",
       "      <td>226.75</td>\n",
       "      <td>197.2188</td>\n",
       "      <td>11.999799</td>\n",
       "      <td>0.0</td>\n",
       "    </tr>\n",
       "    <tr>\n",
       "      <th>2017-01-06</th>\n",
       "      <td>229.01</td>\n",
       "      <td>197.7522</td>\n",
       "      <td>12.798271</td>\n",
       "      <td>0.0</td>\n",
       "    </tr>\n",
       "    <tr>\n",
       "      <th>2017-01-09</th>\n",
       "      <td>231.28</td>\n",
       "      <td>198.3330</td>\n",
       "      <td>13.637507</td>\n",
       "      <td>0.0</td>\n",
       "    </tr>\n",
       "  </tbody>\n",
       "</table>\n",
       "</div>"
      ],
      "text/plain": [
       "             Close    SMA_50     STD_50  Signal\n",
       "Date                                           \n",
       "2017-01-03  216.99  196.2010  10.384939     1.0\n",
       "2017-01-04  226.99  196.7390  11.251183     0.0\n",
       "2017-01-05  226.75  197.2188  11.999799     0.0\n",
       "2017-01-06  229.01  197.7522  12.798271     0.0\n",
       "2017-01-09  231.28  198.3330  13.637507     0.0"
      ]
     },
     "execution_count": 9,
     "metadata": {},
     "output_type": "execute_result"
    }
   ],
   "source": [
    "tesla.iloc[0,-1] = (tesla.iloc[0][\"SMA_\"+str(k)] < tesla.iloc[0][\"Close\"]).astype(int) # fixing the first day's signal\n",
    "tesla.head()"
   ]
  },
  {
   "cell_type": "code",
   "execution_count": 10,
   "metadata": {},
   "outputs": [
    {
     "data": {
      "text/html": [
       "<div>\n",
       "<style scoped>\n",
       "    .dataframe tbody tr th:only-of-type {\n",
       "        vertical-align: middle;\n",
       "    }\n",
       "\n",
       "    .dataframe tbody tr th {\n",
       "        vertical-align: top;\n",
       "    }\n",
       "\n",
       "    .dataframe thead th {\n",
       "        text-align: right;\n",
       "    }\n",
       "</style>\n",
       "<table border=\"1\" class=\"dataframe\">\n",
       "  <thead>\n",
       "    <tr style=\"text-align: right;\">\n",
       "      <th></th>\n",
       "      <th>Close</th>\n",
       "      <th>SMA_50</th>\n",
       "      <th>STD_50</th>\n",
       "      <th>Signal</th>\n",
       "    </tr>\n",
       "    <tr>\n",
       "      <th>Date</th>\n",
       "      <th></th>\n",
       "      <th></th>\n",
       "      <th></th>\n",
       "      <th></th>\n",
       "    </tr>\n",
       "  </thead>\n",
       "  <tbody>\n",
       "    <tr>\n",
       "      <th>2017-01-03</th>\n",
       "      <td>216.99</td>\n",
       "      <td>196.2010</td>\n",
       "      <td>10.384939</td>\n",
       "      <td>1.0</td>\n",
       "    </tr>\n",
       "    <tr>\n",
       "      <th>2017-03-08</th>\n",
       "      <td>246.87</td>\n",
       "      <td>247.5328</td>\n",
       "      <td>18.246132</td>\n",
       "      <td>-1.0</td>\n",
       "    </tr>\n",
       "    <tr>\n",
       "      <th>2017-03-14</th>\n",
       "      <td>258.00</td>\n",
       "      <td>250.0422</td>\n",
       "      <td>15.860591</td>\n",
       "      <td>1.0</td>\n",
       "    </tr>\n",
       "    <tr>\n",
       "      <th>2017-03-21</th>\n",
       "      <td>250.68</td>\n",
       "      <td>253.6112</td>\n",
       "      <td>12.943019</td>\n",
       "      <td>-1.0</td>\n",
       "    </tr>\n",
       "    <tr>\n",
       "      <th>2017-03-22</th>\n",
       "      <td>255.01</td>\n",
       "      <td>254.0858</td>\n",
       "      <td>12.536133</td>\n",
       "      <td>1.0</td>\n",
       "    </tr>\n",
       "    <tr>\n",
       "      <th>2017-07-27</th>\n",
       "      <td>334.46</td>\n",
       "      <td>342.7562</td>\n",
       "      <td>24.170195</td>\n",
       "      <td>-1.0</td>\n",
       "    </tr>\n",
       "  </tbody>\n",
       "</table>\n",
       "</div>"
      ],
      "text/plain": [
       "             Close    SMA_50     STD_50  Signal\n",
       "Date                                           \n",
       "2017-01-03  216.99  196.2010  10.384939     1.0\n",
       "2017-03-08  246.87  247.5328  18.246132    -1.0\n",
       "2017-03-14  258.00  250.0422  15.860591     1.0\n",
       "2017-03-21  250.68  253.6112  12.943019    -1.0\n",
       "2017-03-22  255.01  254.0858  12.536133     1.0\n",
       "2017-07-27  334.46  342.7562  24.170195    -1.0"
      ]
     },
     "execution_count": 10,
     "metadata": {},
     "output_type": "execute_result"
    }
   ],
   "source": [
    "trades = tesla[tesla[\"Signal\"] != 0].copy()         # days when the stock is bought and sold\n",
    "trades.head(6)"
   ]
  },
  {
   "cell_type": "code",
   "execution_count": 11,
   "metadata": {},
   "outputs": [
    {
     "data": {
      "text/html": [
       "<div>\n",
       "<style scoped>\n",
       "    .dataframe tbody tr th:only-of-type {\n",
       "        vertical-align: middle;\n",
       "    }\n",
       "\n",
       "    .dataframe tbody tr th {\n",
       "        vertical-align: top;\n",
       "    }\n",
       "\n",
       "    .dataframe thead th {\n",
       "        text-align: right;\n",
       "    }\n",
       "</style>\n",
       "<table border=\"1\" class=\"dataframe\">\n",
       "  <thead>\n",
       "    <tr style=\"text-align: right;\">\n",
       "      <th></th>\n",
       "      <th>Close</th>\n",
       "      <th>SMA_50</th>\n",
       "      <th>STD_50</th>\n",
       "      <th>Signal</th>\n",
       "      <th>Buy_Sell_return</th>\n",
       "    </tr>\n",
       "    <tr>\n",
       "      <th>Date</th>\n",
       "      <th></th>\n",
       "      <th></th>\n",
       "      <th></th>\n",
       "      <th></th>\n",
       "      <th></th>\n",
       "    </tr>\n",
       "  </thead>\n",
       "  <tbody>\n",
       "    <tr>\n",
       "      <th>2017-01-03</th>\n",
       "      <td>216.99</td>\n",
       "      <td>196.2010</td>\n",
       "      <td>10.384939</td>\n",
       "      <td>1.0</td>\n",
       "      <td>NaN</td>\n",
       "    </tr>\n",
       "    <tr>\n",
       "      <th>2017-03-08</th>\n",
       "      <td>246.87</td>\n",
       "      <td>247.5328</td>\n",
       "      <td>18.246132</td>\n",
       "      <td>-1.0</td>\n",
       "      <td>0.137702</td>\n",
       "    </tr>\n",
       "    <tr>\n",
       "      <th>2017-03-14</th>\n",
       "      <td>258.00</td>\n",
       "      <td>250.0422</td>\n",
       "      <td>15.860591</td>\n",
       "      <td>1.0</td>\n",
       "      <td>NaN</td>\n",
       "    </tr>\n",
       "    <tr>\n",
       "      <th>2017-03-21</th>\n",
       "      <td>250.68</td>\n",
       "      <td>253.6112</td>\n",
       "      <td>12.943019</td>\n",
       "      <td>-1.0</td>\n",
       "      <td>-0.028372</td>\n",
       "    </tr>\n",
       "    <tr>\n",
       "      <th>2017-03-22</th>\n",
       "      <td>255.01</td>\n",
       "      <td>254.0858</td>\n",
       "      <td>12.536133</td>\n",
       "      <td>1.0</td>\n",
       "      <td>NaN</td>\n",
       "    </tr>\n",
       "  </tbody>\n",
       "</table>\n",
       "</div>"
      ],
      "text/plain": [
       "             Close    SMA_50     STD_50  Signal  Buy_Sell_return\n",
       "Date                                                            \n",
       "2017-01-03  216.99  196.2010  10.384939     1.0              NaN\n",
       "2017-03-08  246.87  247.5328  18.246132    -1.0         0.137702\n",
       "2017-03-14  258.00  250.0422  15.860591     1.0              NaN\n",
       "2017-03-21  250.68  253.6112  12.943019    -1.0        -0.028372\n",
       "2017-03-22  255.01  254.0858  12.536133     1.0              NaN"
      ]
     },
     "execution_count": 11,
     "metadata": {},
     "output_type": "execute_result"
    }
   ],
   "source": [
    "trades[\"Buy_Sell_return\"] = trades[\"Close\"].pct_change()\n",
    "trades.loc[trades.Signal == 1, \"Buy_Sell_return\"] = np.nan\n",
    "trades.head()                                       # Buy_Sell_return : return after each buy-sell trade."
   ]
  },
  {
   "cell_type": "code",
   "execution_count": 12,
   "metadata": {},
   "outputs": [
    {
     "data": {
      "image/png": "[encoded data removed]",
      "text/plain": [
       "<Figure size 432x288 with 1 Axes>"
      ]
     },
     "metadata": {
      "needs_background": "light"
     },
     "output_type": "display_data"
    },
    {
     "name": "stdout",
     "output_type": "stream",
     "text": [
      "We have invested 1 unit of money everytime when the buy signal emerged.\n"
     ]
    }
   ],
   "source": [
    "(trades[\"Buy_Sell_return\"].dropna().cumsum()+1).plot()\n",
    "plt.ylabel(\"Return\")\n",
    "plt.title(\" Investment with 1 unit of Money\")\n",
    "plt.show()\n",
    "print(\"We have invested 1 unit of money everytime when the buy signal emerged.\")"
   ]
  },
  {
   "cell_type": "code",
   "execution_count": 13,
   "metadata": {},
   "outputs": [
    {
     "data": {
      "text/plain": [
       "Text(0.5, 1.0, 'Sharpe ratio = 2.706452960777038')"
      ]
     },
     "execution_count": 13,
     "metadata": {},
     "output_type": "execute_result"
    },
    {
     "data": {
      "image/png": "[encoded data removed]",
      "text/plain": [
       "<Figure size 432x288 with 1 Axes>"
      ]
     },
     "metadata": {
      "needs_background": "light"
     },
     "output_type": "display_data"
    }
   ],
   "source": [
    "# Sharpe Ratio\n",
    "total_return =  trades[\"Buy_Sell_return\"].dropna().sum()\n",
    "portfolio_std = trades[\"Buy_Sell_return\"].dropna().std()\n",
    "sharpe = total_return / portfolio_std\n",
    "plt.bar([\"total_return\",\"portfolio_std\"],[total_return,portfolio_std])\n",
    "plt.title(\"Sharpe ratio = \"+ str(sharpe))"
   ]
  },
  {
   "cell_type": "code",
   "execution_count": 14,
   "metadata": {},
   "outputs": [
    {
     "data": {
      "text/plain": [
       "Text(0, 0.5, '# of trades')"
      ]
     },
     "execution_count": 14,
     "metadata": {},
     "output_type": "execute_result"
    },
    {
     "data": {
      "image/png": "[encoded data removed]",
      "text/plain": [
       "<Figure size 432x288 with 1 Axes>"
      ]
     },
     "metadata": {
      "needs_background": "light"
     },
     "output_type": "display_data"
    }
   ],
   "source": [
    "# Number of positive returns vs number of negatif returns\n",
    "n_of_pos_returns = (trades[\"Buy_Sell_return\"]>0).sum()\n",
    "n_of_neg_returns = (trades[\"Buy_Sell_return\"]<0).sum()\n",
    "\n",
    "plt.bar([\"positive\",\"negative\"],[n_of_pos_returns,n_of_neg_returns])\n",
    "plt.title(\"# of positive and negative returns\")\n",
    "plt.ylabel(\"# of trades\")"
   ]
  },
  {
   "cell_type": "markdown",
   "metadata": {},
   "source": [
    "### Even if the strategy has a good sharpe ratio, I think it is not reliable because there is not so much trades and many of them are concluded with negative return"
   ]
  },
  {
   "cell_type": "markdown",
   "metadata": {},
   "source": [
    "### Task 5\n",
    "\n",
    "One important baseline strategy that is commonly used in trading algorithm evaluation is buy and hold strategy. Assume that you have invested 1 unit of money every day (in the form of a \"buy\" decision) and hold it. What is the final status of your investment. Compare with your proposed strategy."
   ]
  },
  {
   "cell_type": "code",
   "execution_count": 15,
   "metadata": {},
   "outputs": [
    {
     "name": "stdout",
     "output_type": "stream",
     "text": [
      "total money invested :  10  units of money\n",
      "average stock cost is  317.24799999999993\n",
      "last price of the stock is 311.35\n",
      "average return is -0.018591133750251898\n"
     ]
    }
   ],
   "source": [
    "buy_hold_trades = trades[trades[\"Signal\"]==1].iloc[:,:-1]\n",
    "total_money_invested = len(buy_hold_trades)\n",
    "average_cost = buy_hold_trades.Close.mean()\n",
    "last_price = tesla.iloc[-1][\"Close\"]\n",
    "print(\"total money invested : \", total_money_invested,\" units of money\")\n",
    "print(\"average stock cost is \", average_cost)\n",
    "print(\"last price of the stock is\", last_price )\n",
    "print(\"average return is\", last_price/average_cost -1 )"
   ]
  },
  {
   "cell_type": "code",
   "execution_count": 16,
   "metadata": {},
   "outputs": [
    {
     "data": {
      "text/html": [
       "<div>\n",
       "<style scoped>\n",
       "    .dataframe tbody tr th:only-of-type {\n",
       "        vertical-align: middle;\n",
       "    }\n",
       "\n",
       "    .dataframe tbody tr th {\n",
       "        vertical-align: top;\n",
       "    }\n",
       "\n",
       "    .dataframe thead th {\n",
       "        text-align: right;\n",
       "    }\n",
       "</style>\n",
       "<table border=\"1\" class=\"dataframe\">\n",
       "  <thead>\n",
       "    <tr style=\"text-align: right;\">\n",
       "      <th></th>\n",
       "      <th>Close</th>\n",
       "      <th>SMA_50</th>\n",
       "      <th>STD_50</th>\n",
       "      <th>Signal</th>\n",
       "    </tr>\n",
       "    <tr>\n",
       "      <th>Date</th>\n",
       "      <th></th>\n",
       "      <th></th>\n",
       "      <th></th>\n",
       "      <th></th>\n",
       "    </tr>\n",
       "  </thead>\n",
       "  <tbody>\n",
       "    <tr>\n",
       "      <th>2017-01-03</th>\n",
       "      <td>216.99</td>\n",
       "      <td>196.2010</td>\n",
       "      <td>10.384939</td>\n",
       "      <td>1.0</td>\n",
       "    </tr>\n",
       "    <tr>\n",
       "      <th>2017-03-14</th>\n",
       "      <td>258.00</td>\n",
       "      <td>250.0422</td>\n",
       "      <td>15.860591</td>\n",
       "      <td>1.0</td>\n",
       "    </tr>\n",
       "    <tr>\n",
       "      <th>2017-03-22</th>\n",
       "      <td>255.01</td>\n",
       "      <td>254.0858</td>\n",
       "      <td>12.536133</td>\n",
       "      <td>1.0</td>\n",
       "    </tr>\n",
       "    <tr>\n",
       "      <th>2017-08-03</th>\n",
       "      <td>347.09</td>\n",
       "      <td>344.8938</td>\n",
       "      <td>22.067600</td>\n",
       "      <td>1.0</td>\n",
       "    </tr>\n",
       "    <tr>\n",
       "      <th>2017-08-23</th>\n",
       "      <td>352.77</td>\n",
       "      <td>347.7628</td>\n",
       "      <td>20.762762</td>\n",
       "      <td>1.0</td>\n",
       "    </tr>\n",
       "    <tr>\n",
       "      <th>2017-08-29</th>\n",
       "      <td>347.36</td>\n",
       "      <td>345.6988</td>\n",
       "      <td>19.195450</td>\n",
       "      <td>1.0</td>\n",
       "    </tr>\n",
       "    <tr>\n",
       "      <th>2017-10-04</th>\n",
       "      <td>355.01</td>\n",
       "      <td>352.1674</td>\n",
       "      <td>13.835482</td>\n",
       "      <td>1.0</td>\n",
       "    </tr>\n",
       "    <tr>\n",
       "      <th>2017-10-10</th>\n",
       "      <td>355.59</td>\n",
       "      <td>353.6452</td>\n",
       "      <td>12.698135</td>\n",
       "      <td>1.0</td>\n",
       "    </tr>\n",
       "    <tr>\n",
       "      <th>2017-10-17</th>\n",
       "      <td>355.75</td>\n",
       "      <td>354.9966</td>\n",
       "      <td>10.921436</td>\n",
       "      <td>1.0</td>\n",
       "    </tr>\n",
       "    <tr>\n",
       "      <th>2017-12-11</th>\n",
       "      <td>328.91</td>\n",
       "      <td>326.3548</td>\n",
       "      <td>19.515421</td>\n",
       "      <td>1.0</td>\n",
       "    </tr>\n",
       "    <tr>\n",
       "      <th>2017-12-29</th>\n",
       "      <td>311.35</td>\n",
       "      <td>320.4374</td>\n",
       "      <td>14.260541</td>\n",
       "      <td>0.0</td>\n",
       "    </tr>\n",
       "  </tbody>\n",
       "</table>\n",
       "</div>"
      ],
      "text/plain": [
       "             Close    SMA_50     STD_50  Signal\n",
       "Date                                           \n",
       "2017-01-03  216.99  196.2010  10.384939     1.0\n",
       "2017-03-14  258.00  250.0422  15.860591     1.0\n",
       "2017-03-22  255.01  254.0858  12.536133     1.0\n",
       "2017-08-03  347.09  344.8938  22.067600     1.0\n",
       "2017-08-23  352.77  347.7628  20.762762     1.0\n",
       "2017-08-29  347.36  345.6988  19.195450     1.0\n",
       "2017-10-04  355.01  352.1674  13.835482     1.0\n",
       "2017-10-10  355.59  353.6452  12.698135     1.0\n",
       "2017-10-17  355.75  354.9966  10.921436     1.0\n",
       "2017-12-11  328.91  326.3548  19.515421     1.0\n",
       "2017-12-29  311.35  320.4374  14.260541     0.0"
      ]
     },
     "execution_count": 16,
     "metadata": {},
     "output_type": "execute_result"
    }
   ],
   "source": [
    "# Buy Positions\n",
    "buy_hold_trades.append(tesla.iloc[-1])"
   ]
  },
  {
   "cell_type": "markdown",
   "metadata": {},
   "source": [
    "### Buy and Hold Strategy performed worse than the previous strategy. It is needed to invest more money and it made negative return at the and of the year"
   ]
  },
  {
   "cell_type": "code",
   "execution_count": null,
   "metadata": {},
   "outputs": [],
   "source": []
  }
 ],
 "metadata": {
  "kernelspec": {
   "display_name": "Python 3 (ipykernel)",
   "language": "python",
   "name": "python3"
  },
  "language_info": {
   "codemirror_mode": {
    "name": "ipython",
    "version": 3
   },
   "file_extension": ".py",
   "mimetype": "text/x-python",
   "name": "python",
   "nbconvert_exporter": "python",
   "pygments_lexer": "ipython3",
   "version": "3.9.7"
  }
 },
 "nbformat": 4,
 "nbformat_minor": 2
}
